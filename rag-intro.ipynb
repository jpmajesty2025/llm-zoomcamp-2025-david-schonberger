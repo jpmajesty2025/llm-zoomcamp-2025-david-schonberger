{
 "cells": [
  {
   "cell_type": "code",
   "execution_count": 1,
   "id": "086792eb-407a-49ad-9cac-7ae0212732ab",
   "metadata": {},
   "outputs": [
    {
     "name": "stdout",
     "output_type": "stream",
     "text": [
      "--2025-06-06 23:11:52--  https://raw.githubusercontent.com/alexeygrigorev/minsearch/refs/heads/main/minsearch.py\n",
      "Resolving raw.githubusercontent.com (raw.githubusercontent.com)... 185.199.108.133, 185.199.109.133, 185.199.110.133, ...\n",
      "Connecting to raw.githubusercontent.com (raw.githubusercontent.com)|185.199.108.133|:443... connected.\n",
      "HTTP request sent, awaiting response... 200 OK\n",
      "Length: 3832 (3.7K) [text/plain]\n",
      "Saving to: ‘minsearch.py.3’\n",
      "\n",
      "minsearch.py.3      100%[===================>]   3.74K  --.-KB/s    in 0s      \n",
      "\n",
      "2025-06-06 23:11:52 (7.75 MB/s) - ‘minsearch.py.3’ saved [3832/3832]\n",
      "\n"
     ]
    }
   ],
   "source": [
    "!wget https://raw.githubusercontent.com/alexeygrigorev/minsearch/refs/heads/main/minsearch.py"
   ]
  },
  {
   "cell_type": "code",
   "execution_count": 2,
   "id": "94cfc8be-9554-45fb-8ce6-e012b49802ef",
   "metadata": {},
   "outputs": [],
   "source": [
    "import minsearch"
   ]
  },
  {
   "cell_type": "code",
   "execution_count": 3,
   "id": "1d255829-2026-4bcd-9888-da8fea8eb65d",
   "metadata": {},
   "outputs": [],
   "source": [
    "import json"
   ]
  },
  {
   "cell_type": "code",
   "execution_count": 4,
   "id": "ecd7f7b3-4556-4301-861f-7656c7a231f1",
   "metadata": {},
   "outputs": [],
   "source": [
    "with open('documents.json', 'rt') as f_in:\n",
    "    docs_raw = json.load(f_in)"
   ]
  },
  {
   "cell_type": "code",
   "execution_count": 5,
   "id": "11250a13-ee2f-465d-a7d1-124cc365fad5",
   "metadata": {},
   "outputs": [],
   "source": [
    "documents = []\n",
    "for course_dict in docs_raw:\n",
    "    for doc in course_dict['documents']:\n",
    "        doc['course'] = course_dict['course']\n",
    "        documents.append(doc)"
   ]
  },
  {
   "cell_type": "code",
   "execution_count": 6,
   "id": "3d226463-eab2-49c7-b9bf-7a1ffc688809",
   "metadata": {},
   "outputs": [
    {
     "data": {
      "text/plain": [
       "{'text': \"The purpose of this document is to capture frequently asked technical questions\\nThe exact day and hour of the course will be 15th Jan 2024 at 17h00. The course will start with the first  “Office Hours'' live.1\\nSubscribe to course public Google Calendar (it works from Desktop only).\\nRegister before the course starts using this link.\\nJoin the course Telegram channel with announcements.\\nDon’t forget to register in DataTalks.Club's Slack and join the channel.\",\n",
       " 'section': 'General course-related questions',\n",
       " 'question': 'Course - When will the course start?',\n",
       " 'course': 'data-engineering-zoomcamp'}"
      ]
     },
     "execution_count": 6,
     "metadata": {},
     "output_type": "execute_result"
    }
   ],
   "source": [
    "documents[0]"
   ]
  },
  {
   "cell_type": "code",
   "execution_count": 7,
   "id": "d322e459-c807-4df7-b6fb-0c7d0167b7ae",
   "metadata": {},
   "outputs": [],
   "source": [
    "index = minsearch.Index(text_fields=['question','text','section'], keyword_fields=['course'])"
   ]
  },
  {
   "cell_type": "code",
   "execution_count": 8,
   "id": "1f8e4f10-be54-48df-af0b-039c679c0466",
   "metadata": {},
   "outputs": [],
   "source": [
    "q='The course has already begun. May I still enroll?'"
   ]
  },
  {
   "cell_type": "code",
   "execution_count": 9,
   "id": "835a7dfc-5e2f-4376-a73c-b21ac0c372c5",
   "metadata": {},
   "outputs": [
    {
     "data": {
      "text/plain": [
       "<minsearch.Index at 0x7beb864647d0>"
      ]
     },
     "execution_count": 9,
     "metadata": {},
     "output_type": "execute_result"
    }
   ],
   "source": [
    "index.fit(documents)"
   ]
  },
  {
   "cell_type": "code",
   "execution_count": 10,
   "id": "2e829536-1482-4043-822d-58c968da595d",
   "metadata": {},
   "outputs": [],
   "source": [
    "boost= {'question':3.0, 'section':0.5}\n",
    "results = index.search(query = q,\n",
    "                       filter_dict={'course':'data-engineering-zoomcamp'},\n",
    "                       boost_dict = boost,\n",
    "                       num_results=5)"
   ]
  },
  {
   "cell_type": "code",
   "execution_count": 11,
   "id": "a6d4a19b-4551-4a91-b512-815cc4ff3450",
   "metadata": {},
   "outputs": [
    {
     "data": {
      "text/plain": [
       "[{'text': \"Yes, even if you don't register, you're still eligible to submit the homeworks.\\nBe aware, however, that there will be deadlines for turning in the final projects. So don't leave everything for the last minute.\",\n",
       "  'section': 'General course-related questions',\n",
       "  'question': 'Course - Can I still join the course after the start date?',\n",
       "  'course': 'data-engineering-zoomcamp'},\n",
       " {'text': \"The purpose of this document is to capture frequently asked technical questions\\nThe exact day and hour of the course will be 15th Jan 2024 at 17h00. The course will start with the first  “Office Hours'' live.1\\nSubscribe to course public Google Calendar (it works from Desktop only).\\nRegister before the course starts using this link.\\nJoin the course Telegram channel with announcements.\\nDon’t forget to register in DataTalks.Club's Slack and join the channel.\",\n",
       "  'section': 'General course-related questions',\n",
       "  'question': 'Course - When will the course start?',\n",
       "  'course': 'data-engineering-zoomcamp'},\n",
       " {'text': 'Yes, we will keep all the materials after the course finishes, so you can follow the course at your own pace after it finishes.\\nYou can also continue looking at the homeworks and continue preparing for the next cohort. I guess you can also start working on your final capstone project.',\n",
       "  'section': 'General course-related questions',\n",
       "  'question': 'Course - Can I follow the course after it finishes?',\n",
       "  'course': 'data-engineering-zoomcamp'},\n",
       " {'text': 'GitHub - DataTalksClub data-engineering-zoomcamp#prerequisites',\n",
       "  'section': 'General course-related questions',\n",
       "  'question': 'Course - What are the prerequisites for this course?',\n",
       "  'course': 'data-engineering-zoomcamp'},\n",
       " {'text': 'You can start by installing and setting up all the dependencies and requirements:\\nGoogle cloud account\\nGoogle Cloud SDK\\nPython 3 (installed with Anaconda)\\nTerraform\\nGit\\nLook over the prerequisites and syllabus to see if you are comfortable with these subjects.',\n",
       "  'section': 'General course-related questions',\n",
       "  'question': 'Course - What can I do before the course starts?',\n",
       "  'course': 'data-engineering-zoomcamp'}]"
      ]
     },
     "execution_count": 11,
     "metadata": {},
     "output_type": "execute_result"
    }
   ],
   "source": [
    "results"
   ]
  },
  {
   "cell_type": "code",
   "execution_count": 12,
   "id": "2cf30027-f4a2-4384-933b-1d5a9e8561fc",
   "metadata": {},
   "outputs": [],
   "source": [
    "from openai import OpenAI"
   ]
  },
  {
   "cell_type": "code",
   "execution_count": 13,
   "id": "a6d4240b-799a-4479-a80e-0c097afe14f6",
   "metadata": {},
   "outputs": [],
   "source": [
    "client = OpenAI()"
   ]
  },
  {
   "cell_type": "code",
   "execution_count": 14,
   "id": "eff93e0a-c447-4f26-bf92-871768db2da1",
   "metadata": {},
   "outputs": [],
   "source": [
    "response = client.chat.completions.create(\n",
    "    model='gpt-4o',\n",
    "    messages=[{\"role\":\"user\",\"content\":q}]\n",
    "    \n",
    ")"
   ]
  },
  {
   "cell_type": "code",
   "execution_count": 15,
   "id": "44b77553-c9be-46c5-84a3-9f381c9916a6",
   "metadata": {},
   "outputs": [
    {
     "data": {
      "text/plain": [
       "\"It's best to check with the specific course or institution for their enrollment policies. Some courses may allow late enrollment, while others may have strict deadlines. Contact the course administrator or admissions office to see if an exception can be made for you.\""
      ]
     },
     "execution_count": 15,
     "metadata": {},
     "output_type": "execute_result"
    }
   ],
   "source": [
    "response.choices[0].message.content"
   ]
  },
  {
   "cell_type": "code",
   "execution_count": 16,
   "id": "1ef06611-ca6d-4403-b691-dba552566865",
   "metadata": {},
   "outputs": [],
   "source": [
    "prompt_template=\"\"\"\n",
    "You are a course teaching assistant. Please answer the QUESTION based on the CONTEXT.\n",
    "Use only facts from the CONTEXT when answering the question.\n",
    "If the CONTEXT does not contain the answer, output NONE.\n",
    "\n",
    "CONTEXT: {context}\n",
    "QUESTION: {question}\n",
    "\"\"\".strip()"
   ]
  },
  {
   "cell_type": "code",
   "execution_count": 17,
   "id": "87a09d1f-7039-4112-98db-d8e3bf4057d8",
   "metadata": {},
   "outputs": [],
   "source": [
    "context = \"\"\n",
    "for doc in results:\n",
    "    context += f\"section: {doc['section']}\\n question: {doc['question']}\\n\\nanswer: {doc['text']}\\n\\n\""
   ]
  },
  {
   "cell_type": "code",
   "execution_count": 18,
   "id": "93ab876d-2a00-46ec-917c-5bc87fb23962",
   "metadata": {},
   "outputs": [
    {
     "name": "stdout",
     "output_type": "stream",
     "text": [
      "section: General course-related questions\n",
      " question: Course - Can I still join the course after the start date?\n",
      "\n",
      "answer: Yes, even if you don't register, you're still eligible to submit the homeworks.\n",
      "Be aware, however, that there will be deadlines for turning in the final projects. So don't leave everything for the last minute.\n",
      "\n",
      "section: General course-related questions\n",
      " question: Course - When will the course start?\n",
      "\n",
      "answer: The purpose of this document is to capture frequently asked technical questions\n",
      "The exact day and hour of the course will be 15th Jan 2024 at 17h00. The course will start with the first  “Office Hours'' live.1\n",
      "Subscribe to course public Google Calendar (it works from Desktop only).\n",
      "Register before the course starts using this link.\n",
      "Join the course Telegram channel with announcements.\n",
      "Don’t forget to register in DataTalks.Club's Slack and join the channel.\n",
      "\n",
      "section: General course-related questions\n",
      " question: Course - Can I follow the course after it finishes?\n",
      "\n",
      "answer: Yes, we will keep all the materials after the course finishes, so you can follow the course at your own pace after it finishes.\n",
      "You can also continue looking at the homeworks and continue preparing for the next cohort. I guess you can also start working on your final capstone project.\n",
      "\n",
      "section: General course-related questions\n",
      " question: Course - What are the prerequisites for this course?\n",
      "\n",
      "answer: GitHub - DataTalksClub data-engineering-zoomcamp#prerequisites\n",
      "\n",
      "section: General course-related questions\n",
      " question: Course - What can I do before the course starts?\n",
      "\n",
      "answer: You can start by installing and setting up all the dependencies and requirements:\n",
      "Google cloud account\n",
      "Google Cloud SDK\n",
      "Python 3 (installed with Anaconda)\n",
      "Terraform\n",
      "Git\n",
      "Look over the prerequisites and syllabus to see if you are comfortable with these subjects.\n",
      "\n",
      "\n"
     ]
    }
   ],
   "source": [
    "print(context)"
   ]
  },
  {
   "cell_type": "code",
   "execution_count": 19,
   "id": "f0df87fd-9ca4-4634-8084-e0e0bded4c57",
   "metadata": {},
   "outputs": [],
   "source": [
    "prompt = prompt_template.format(question=q, context=context).strip()"
   ]
  },
  {
   "cell_type": "code",
   "execution_count": 20,
   "id": "727fdcd3-3bb8-4ca7-915c-760a52a02ac0",
   "metadata": {},
   "outputs": [
    {
     "name": "stdout",
     "output_type": "stream",
     "text": [
      "You are a course teaching assistant. Please answer the QUESTION based on the CONTEXT.\n",
      "Use only facts from the CONTEXT when answering the question.\n",
      "If the CONTEXT does not contain the answer, output NONE.\n",
      "\n",
      "CONTEXT: section: General course-related questions\n",
      " question: Course - Can I still join the course after the start date?\n",
      "\n",
      "answer: Yes, even if you don't register, you're still eligible to submit the homeworks.\n",
      "Be aware, however, that there will be deadlines for turning in the final projects. So don't leave everything for the last minute.\n",
      "\n",
      "section: General course-related questions\n",
      " question: Course - When will the course start?\n",
      "\n",
      "answer: The purpose of this document is to capture frequently asked technical questions\n",
      "The exact day and hour of the course will be 15th Jan 2024 at 17h00. The course will start with the first  “Office Hours'' live.1\n",
      "Subscribe to course public Google Calendar (it works from Desktop only).\n",
      "Register before the course starts using this link.\n",
      "Join the course Telegram channel with announcements.\n",
      "Don’t forget to register in DataTalks.Club's Slack and join the channel.\n",
      "\n",
      "section: General course-related questions\n",
      " question: Course - Can I follow the course after it finishes?\n",
      "\n",
      "answer: Yes, we will keep all the materials after the course finishes, so you can follow the course at your own pace after it finishes.\n",
      "You can also continue looking at the homeworks and continue preparing for the next cohort. I guess you can also start working on your final capstone project.\n",
      "\n",
      "section: General course-related questions\n",
      " question: Course - What are the prerequisites for this course?\n",
      "\n",
      "answer: GitHub - DataTalksClub data-engineering-zoomcamp#prerequisites\n",
      "\n",
      "section: General course-related questions\n",
      " question: Course - What can I do before the course starts?\n",
      "\n",
      "answer: You can start by installing and setting up all the dependencies and requirements:\n",
      "Google cloud account\n",
      "Google Cloud SDK\n",
      "Python 3 (installed with Anaconda)\n",
      "Terraform\n",
      "Git\n",
      "Look over the prerequisites and syllabus to see if you are comfortable with these subjects.\n",
      "\n",
      "\n",
      "QUESTION: The course has already begun. May I still enroll?\n"
     ]
    }
   ],
   "source": [
    "print(prompt)"
   ]
  },
  {
   "cell_type": "markdown",
   "id": "968500e1-4d74-4355-83bd-96b41d419a5a",
   "metadata": {},
   "source": [
    "### LLM Zoomcamp 1.5 - The RAG Flow Cleaning and Modularizing Code"
   ]
  },
  {
   "cell_type": "code",
   "execution_count": 21,
   "id": "b80f4af5-6a17-4959-a161-3323bf87ad4b",
   "metadata": {},
   "outputs": [
    {
     "name": "stdout",
     "output_type": "stream",
     "text": [
      "--2025-06-06 23:12:30--  https://raw.githubusercontent.com/alexeygrigorev/minsearch/refs/heads/main/minsearch.py\n",
      "Resolving raw.githubusercontent.com (raw.githubusercontent.com)... 185.199.108.133, 185.199.110.133, 185.199.111.133, ...\n",
      "Connecting to raw.githubusercontent.com (raw.githubusercontent.com)|185.199.108.133|:443... connected.\n",
      "HTTP request sent, awaiting response... 200 OK\n",
      "Length: 3832 (3.7K) [text/plain]\n",
      "Saving to: ‘minsearch.py.4’\n",
      "\n",
      "minsearch.py.4      100%[===================>]   3.74K  --.-KB/s    in 0s      \n",
      "\n",
      "2025-06-06 23:12:30 (11.2 MB/s) - ‘minsearch.py.4’ saved [3832/3832]\n",
      "\n"
     ]
    }
   ],
   "source": [
    "!wget https://raw.githubusercontent.com/alexeygrigorev/minsearch/refs/heads/main/minsearch.py\n",
    "import minsearch\n",
    "import json\n",
    "from openai import OpenAI\n"
   ]
  },
  {
   "cell_type": "code",
   "execution_count": 22,
   "id": "368e5a4b-b9df-4465-8044-649d0d7c60e6",
   "metadata": {},
   "outputs": [
    {
     "data": {
      "text/plain": [
       "<minsearch.Index at 0x7beb60a79340>"
      ]
     },
     "execution_count": 22,
     "metadata": {},
     "output_type": "execute_result"
    }
   ],
   "source": [
    "with open('documents.json', 'rt') as f_in:\n",
    "    docs_raw = json.load(f_in)\n",
    "\n",
    "documents = []\n",
    "for course_dict in docs_raw:\n",
    "    for doc in course_dict['documents']:\n",
    "        doc['course'] = course_dict['course']\n",
    "        documents.append(doc)\n",
    "\n",
    "index = minsearch.Index(text_fields=['question','text','section'], keyword_fields=['course'])\n",
    "index.fit(documents)"
   ]
  },
  {
   "cell_type": "code",
   "execution_count": 23,
   "id": "95e3b0cf-02d6-4282-8961-4c7d93a21c8e",
   "metadata": {},
   "outputs": [],
   "source": [
    "def search(query, boost_dict={}, filter_dict={},num_results = 10):\n",
    "    results = index.search(\n",
    "                query = query,\n",
    "                filter_dict=filter_dict,\n",
    "                boost_dict = boost_dict,\n",
    "                num_results=num_results\n",
    "    )\n",
    "    return results"
   ]
  },
  {
   "cell_type": "code",
   "execution_count": 24,
   "id": "cc37ac1c-ff7b-48f0-a839-6043ff1c40d7",
   "metadata": {},
   "outputs": [],
   "source": [
    "def build_prompt(query,search_results, *args, **kwargs):\n",
    "    prompt_template=\"\"\"\n",
    "    You are a course teaching assistant. Please answer the QUESTION based on the CONTEXT.\n",
    "    Use only facts from the CONTEXT when answering the question.\n",
    "    If the CONTEXT does not contain the answer, output NONE.\n",
    "    \n",
    "    CONTEXT: {context}\n",
    "    QUESTION: {question}\n",
    "    \"\"\".strip()\n",
    "\n",
    "    context = \"\"\n",
    "    for doc in search_results:\n",
    "        context += f\"section: {doc['section']}\\n question: {doc['question']}\\n\\n answer: {doc['text']}\\n\\n\"\n",
    "\n",
    "    prompt = prompt_template.format(question=query, context=context).strip()\n",
    "    return prompt\n",
    "    "
   ]
  },
  {
   "cell_type": "code",
   "execution_count": 55,
   "id": "bd39519f-9f2f-4b95-8a0f-e101ba6c2a2d",
   "metadata": {},
   "outputs": [],
   "source": [
    "def llm(prompt, *args, **kwargs):\n",
    "    client = OpenAI()\n",
    "    response = client.chat.completions.create(\n",
    "    model='gpt-4o',\n",
    "    messages=[{\"role\":\"user\",\"content\":prompt}]\n",
    "    )\n",
    "    return response.choices[0].message.content    "
   ]
  },
  {
   "cell_type": "code",
   "execution_count": 26,
   "id": "97041184-06bc-4583-b8a1-fc142bfeda30",
   "metadata": {},
   "outputs": [
    {
     "name": "stdout",
     "output_type": "stream",
     "text": [
      "NONE\n"
     ]
    }
   ],
   "source": [
    "query = 'How do I run kafka'\n",
    "\n",
    "def rag(query):\n",
    "    boost_dict= {'question':3.0, 'section':0.5}\n",
    "    #filter_dict={'course':'data-engineering-zoomcamp'}\n",
    "    filter_dict={}\n",
    "    num_results=25\n",
    "    search_results = search(query,boost_dict,filter_dict,num_results)\n",
    "    prompt = build_prompt(query, search_results)\n",
    "    answer = llm(prompt)\n",
    "    return answer\n",
    "    \n",
    "answer = rag(query)\n",
    "print(answer)"
   ]
  },
  {
   "cell_type": "markdown",
   "id": "d73301c7-0364-4bee-9918-ec09a081e369",
   "metadata": {},
   "source": [
    "### LLM Zoomcamp 1.6 - Search with Elasticsearch"
   ]
  },
  {
   "cell_type": "code",
   "execution_count": 27,
   "id": "0f97e814-5844-4931-a161-59568ae3d342",
   "metadata": {},
   "outputs": [],
   "source": [
    "from elasticsearch import Elasticsearch"
   ]
  },
  {
   "cell_type": "code",
   "execution_count": 28,
   "id": "a76b7621-607f-4da9-a7b9-c4762433a0a5",
   "metadata": {},
   "outputs": [],
   "source": [
    "es_client = Elasticsearch('htttp://localhost:9200')"
   ]
  },
  {
   "cell_type": "code",
   "execution_count": 29,
   "id": "f2099d96-e254-4876-8240-15a22bac4e51",
   "metadata": {},
   "outputs": [
    {
     "data": {
      "text/plain": [
       "ObjectApiResponse({'name': '11720c73e891', 'cluster_name': 'docker-cluster', 'cluster_uuid': 'ZwQJmFwzQKCqIWPimKhvMQ', 'version': {'number': '9.0.1', 'build_flavor': 'default', 'build_type': 'docker', 'build_hash': '73f7594ea00db50aa7e941e151a5b3985f01e364', 'build_date': '2025-04-30T10:07:41.393025990Z', 'build_snapshot': False, 'lucene_version': '10.1.0', 'minimum_wire_compatibility_version': '8.18.0', 'minimum_index_compatibility_version': '8.0.0'}, 'tagline': 'You Know, for Search'})"
      ]
     },
     "execution_count": 29,
     "metadata": {},
     "output_type": "execute_result"
    }
   ],
   "source": [
    "es_client.info()"
   ]
  },
  {
   "cell_type": "code",
   "execution_count": 30,
   "id": "d7d463ff-4ad0-4347-9f7c-61644a514d91",
   "metadata": {},
   "outputs": [
    {
     "data": {
      "text/plain": [
       "ObjectApiResponse({'acknowledged': True, 'shards_acknowledged': True, 'index': 'course-questions'})"
      ]
     },
     "execution_count": 30,
     "metadata": {},
     "output_type": "execute_result"
    }
   ],
   "source": [
    "index_settings = {\n",
    "    \"settings\": {\n",
    "        \"number_of_shards\": 1,\n",
    "        \"number_of_replicas\": 0\n",
    "    },\n",
    "    \"mappings\": {\n",
    "        \"properties\": {\n",
    "            \"text\": {\"type\": \"text\"},\n",
    "            \"section\": {\"type\": \"text\"},\n",
    "            \"question\": {\"type\": \"text\"},\n",
    "            \"course\": {\"type\": \"keyword\"} \n",
    "        }\n",
    "    }\n",
    "}\n",
    "\n",
    "index_name = \"course-questions\"\n",
    "es_client.indices.create(index=index_name, body=index_settings)"
   ]
  },
  {
   "cell_type": "code",
   "execution_count": 31,
   "id": "2ea18aa3-1a5e-4a50-805c-d146fad1a603",
   "metadata": {},
   "outputs": [],
   "source": [
    "from tqdm.auto import tqdm"
   ]
  },
  {
   "cell_type": "code",
   "execution_count": 32,
   "id": "50f94d7c-fcb7-4e47-b58f-b609e865fc4b",
   "metadata": {},
   "outputs": [
    {
     "data": {
      "application/vnd.jupyter.widget-view+json": {
       "model_id": "f9a75c08acd54bfcb91fd6773badad5f",
       "version_major": 2,
       "version_minor": 0
      },
      "text/plain": [
       "  0%|          | 0/948 [00:00<?, ?it/s]"
      ]
     },
     "metadata": {},
     "output_type": "display_data"
    }
   ],
   "source": [
    "for doc in tqdm(documents):\n",
    "    es_client.index(index=index_name, document=doc)"
   ]
  },
  {
   "cell_type": "code",
   "execution_count": 33,
   "id": "8f43e497-b013-4a11-bb62-b8d29b019626",
   "metadata": {},
   "outputs": [],
   "source": [
    "query = \"I just discovered the course. Can I still join?\"\n",
    "search_query = {\n",
    "    \"size\": 5,\n",
    "    \"query\": {\n",
    "        \"bool\": {\n",
    "            \"must\": {\n",
    "                \"multi_match\": {\n",
    "                    \"query\": query,\n",
    "                    \"fields\": [\"question^3\", \"text\", \"section\"],\n",
    "                    \"type\": \"best_fields\"\n",
    "                }\n",
    "            },\n",
    "            \"filter\": {\n",
    "                \"term\": {\n",
    "                    \"course\": \"data-engineering-zoomcamp\"\n",
    "                }\n",
    "            }\n",
    "        }\n",
    "    }\n",
    "}"
   ]
  },
  {
   "cell_type": "code",
   "execution_count": 34,
   "id": "5738ed13-936c-4607-a1ac-d03da6bb90e5",
   "metadata": {},
   "outputs": [
    {
     "data": {
      "text/plain": [
       "[{'text': \"Yes, even if you don't register, you're still eligible to submit the homeworks.\\nBe aware, however, that there will be deadlines for turning in the final projects. So don't leave everything for the last minute.\",\n",
       "  'section': 'General course-related questions',\n",
       "  'question': 'Course - Can I still join the course after the start date?',\n",
       "  'course': 'data-engineering-zoomcamp'},\n",
       " {'text': 'You can start by installing and setting up all the dependencies and requirements:\\nGoogle cloud account\\nGoogle Cloud SDK\\nPython 3 (installed with Anaconda)\\nTerraform\\nGit\\nLook over the prerequisites and syllabus to see if you are comfortable with these subjects.',\n",
       "  'section': 'General course-related questions',\n",
       "  'question': 'Course - What can I do before the course starts?',\n",
       "  'course': 'data-engineering-zoomcamp'},\n",
       " {'text': 'Yes, we will keep all the materials after the course finishes, so you can follow the course at your own pace after it finishes.\\nYou can also continue looking at the homeworks and continue preparing for the next cohort. I guess you can also start working on your final capstone project.',\n",
       "  'section': 'General course-related questions',\n",
       "  'question': 'Course - Can I follow the course after it finishes?',\n",
       "  'course': 'data-engineering-zoomcamp'},\n",
       " {'text': 'Yes, the slack channel remains open and you can ask questions there. But always sDocker containers exit code w search the channel first and second, check the FAQ (this document), most likely all your questions are already answered here.\\nYou can also tag the bot @ZoomcampQABot to help you conduct the search, but don’t rely on its answers 100%, it is pretty good though.',\n",
       "  'section': 'General course-related questions',\n",
       "  'question': 'Course - Can I get support if I take the course in the self-paced mode?',\n",
       "  'course': 'data-engineering-zoomcamp'},\n",
       " {'text': \"You don't need it. You're accepted. You can also just start learning and submitting homework without registering. It is not checked against any registered list. Registration is just to gauge interest before the start date.\",\n",
       "  'section': 'General course-related questions',\n",
       "  'question': 'Course - I have registered for the Data Engineering Bootcamp. When can I expect to receive the confirmation email?',\n",
       "  'course': 'data-engineering-zoomcamp'}]"
      ]
     },
     "execution_count": 34,
     "metadata": {},
     "output_type": "execute_result"
    }
   ],
   "source": [
    "search_response = es_client.search(index=index_name, body=search_query)\n",
    "hits = search_response['hits']['hits']\n",
    "result_docs = [hit['_source'] for hit in hits]\n",
    "result_docs"
   ]
  },
  {
   "cell_type": "code",
   "execution_count": 35,
   "id": "5a5516e2-51a6-4a40-943a-b700e9705867",
   "metadata": {},
   "outputs": [],
   "source": [
    "\n",
    "def elastic_search(query, *args, **kwargs):\n",
    "    search_query = {\n",
    "        \"size\": 5,\n",
    "        \"query\": {\n",
    "            \"bool\": {\n",
    "                \"must\": {\n",
    "                    \"multi_match\": {\n",
    "                        \"query\": query,\n",
    "                        \"fields\": [\"question^3\", \"text\", \"section\"],\n",
    "                        \"type\": \"best_fields\"\n",
    "                    }\n",
    "                },\n",
    "                \"filter\": {\n",
    "                    \"term\": {\n",
    "                        \"course\": \"data-engineering-zoomcamp\"\n",
    "                    }\n",
    "                }\n",
    "            }\n",
    "        }\n",
    "    }\n",
    "    search_response = es_client.search(index=index_name, body=search_query)\n",
    "    hits = search_response['hits']['hits']\n",
    "    result_docs = [hit['_source'] for hit in hits]\n",
    "    return result_docs"
   ]
  },
  {
   "cell_type": "code",
   "execution_count": 36,
   "id": "d5d7ff50-576a-41b5-9f68-a49ae75f476a",
   "metadata": {},
   "outputs": [],
   "source": [
    "query = \"I just found the course. Can I still join it?\""
   ]
  },
  {
   "cell_type": "code",
   "execution_count": 37,
   "id": "c4e93879-8f75-4c41-8c3d-528291af445c",
   "metadata": {},
   "outputs": [
    {
     "data": {
      "text/plain": [
       "[{'text': \"Yes, even if you don't register, you're still eligible to submit the homeworks.\\nBe aware, however, that there will be deadlines for turning in the final projects. So don't leave everything for the last minute.\",\n",
       "  'section': 'General course-related questions',\n",
       "  'question': 'Course - Can I still join the course after the start date?',\n",
       "  'course': 'data-engineering-zoomcamp'},\n",
       " {'text': 'Yes, we will keep all the materials after the course finishes, so you can follow the course at your own pace after it finishes.\\nYou can also continue looking at the homeworks and continue preparing for the next cohort. I guess you can also start working on your final capstone project.',\n",
       "  'section': 'General course-related questions',\n",
       "  'question': 'Course - Can I follow the course after it finishes?',\n",
       "  'course': 'data-engineering-zoomcamp'},\n",
       " {'text': 'You can start by installing and setting up all the dependencies and requirements:\\nGoogle cloud account\\nGoogle Cloud SDK\\nPython 3 (installed with Anaconda)\\nTerraform\\nGit\\nLook over the prerequisites and syllabus to see if you are comfortable with these subjects.',\n",
       "  'section': 'General course-related questions',\n",
       "  'question': 'Course - What can I do before the course starts?',\n",
       "  'course': 'data-engineering-zoomcamp'},\n",
       " {'text': 'Yes, the slack channel remains open and you can ask questions there. But always sDocker containers exit code w search the channel first and second, check the FAQ (this document), most likely all your questions are already answered here.\\nYou can also tag the bot @ZoomcampQABot to help you conduct the search, but don’t rely on its answers 100%, it is pretty good though.',\n",
       "  'section': 'General course-related questions',\n",
       "  'question': 'Course - Can I get support if I take the course in the self-paced mode?',\n",
       "  'course': 'data-engineering-zoomcamp'},\n",
       " {'text': \"You don't need it. You're accepted. You can also just start learning and submitting homework without registering. It is not checked against any registered list. Registration is just to gauge interest before the start date.\",\n",
       "  'section': 'General course-related questions',\n",
       "  'question': 'Course - I have registered for the Data Engineering Bootcamp. When can I expect to receive the confirmation email?',\n",
       "  'course': 'data-engineering-zoomcamp'}]"
      ]
     },
     "execution_count": 37,
     "metadata": {},
     "output_type": "execute_result"
    }
   ],
   "source": [
    "result_docs = elastic_search(query)\n",
    "result_docs"
   ]
  },
  {
   "cell_type": "code",
   "execution_count": 38,
   "id": "48e733fb-4e94-49de-990c-94c98ee15829",
   "metadata": {},
   "outputs": [
    {
     "data": {
      "text/plain": [
       "'Yes, you can. You won’t be able to submit some of the homeworks, but you can still take part in the course. In order to get a certificate, you need to submit 2 out of 3 course projects and review 3 peers’ Projects by the deadline. It means that if you join the course at the end of November and manage to work on two projects, you will still be eligible for a certificate.'"
      ]
     },
     "execution_count": 38,
     "metadata": {},
     "output_type": "execute_result"
    }
   ],
   "source": [
    "def rag(query,search_func):\n",
    "    search_results = search_func(query)\n",
    "    prompt = build_prompt(query, search_results)\n",
    "    answer = llm(prompt)\n",
    "    return answer\n",
    "    \n",
    "rag(query,search)"
   ]
  },
  {
   "cell_type": "code",
   "execution_count": 39,
   "id": "7008e01e-c51d-47ad-a00a-32b44317a2c5",
   "metadata": {},
   "outputs": [
    {
     "data": {
      "text/plain": [
       "\"Yes, even if you don't register, you're still eligible to submit the homeworks. Be aware, however, that there will be deadlines for turning in the final projects. So don't leave everything for the last minute.\""
      ]
     },
     "execution_count": 39,
     "metadata": {},
     "output_type": "execute_result"
    }
   ],
   "source": [
    "def rag(query,search_func, build_prompt_func, llm_func):\n",
    "    search_results = search_func(query)\n",
    "    prompt = build_prompt_func(query, search_results)\n",
    "    answer = llm_func(prompt)\n",
    "    return answer\n",
    "    \n",
    "rag(query,elastic_search,build_prompt, llm)"
   ]
  },
  {
   "cell_type": "code",
   "execution_count": 40,
   "id": "e8e8caad-a7df-47ef-8535-0366ec756552",
   "metadata": {},
   "outputs": [
    {
     "data": {
      "text/plain": [
       "\"Yes, even if you don't register, you're still eligible to submit the homeworks. Be aware, however, that there will be deadlines for turning in the final projects. So don't leave everything for the last minute.\""
      ]
     },
     "execution_count": 40,
     "metadata": {},
     "output_type": "execute_result"
    }
   ],
   "source": [
    "def rag(query,build_prompt_func, llm_func,search_func, *args, **kwargs):\n",
    "    search_results = search_func(query, *args, **kwargs)\n",
    "    prompt = build_prompt_func(query, search_results)\n",
    "    answer = llm_func(prompt)\n",
    "    return answer\n",
    "    \n",
    "rag(query,build_prompt, llm, elastic_search)"
   ]
  },
  {
   "cell_type": "markdown",
   "id": "e1bb497c-da3f-4964-bed0-60d8c4e72cec",
   "metadata": {},
   "source": [
    "### Generalized rag() Function with Fully Swappable Components"
   ]
  },
  {
   "cell_type": "code",
   "execution_count": 41,
   "id": "50e563b4-62b2-4856-840a-d2fbf5fefd2d",
   "metadata": {},
   "outputs": [],
   "source": [
    "def rag(\n",
    "    query,\n",
    "    search_step,\n",
    "    prompt_step,\n",
    "    llm_step\n",
    "):\n",
    "    search_func, search_args, search_kwargs = search_step\n",
    "    prompt_func, prompt_args, prompt_kwargs = prompt_step\n",
    "    llm_func, llm_args, llm_kwargs = llm_step\n",
    "\n",
    "    search_results = search_func(query, *search_args, **search_kwargs)\n",
    "    prompt = prompt_func(query, search_results, *prompt_args, **prompt_kwargs)\n",
    "    answer = llm_func(prompt, *llm_args, **llm_kwargs)\n",
    "    return answer\n"
   ]
  },
  {
   "cell_type": "code",
   "execution_count": 42,
   "id": "91b4f8c7-62eb-44e3-a282-72fe4fd1072d",
   "metadata": {},
   "outputs": [
    {
     "data": {
      "text/plain": [
       "\"Yes, even if you don't register, you're still eligible to submit the homeworks. Be aware, however, that there will be deadlines for turning in the final projects. So don't leave everything for the last minute.\""
      ]
     },
     "execution_count": 42,
     "metadata": {},
     "output_type": "execute_result"
    }
   ],
   "source": [
    "rag(query,(elastic_search,[],{}), (build_prompt,[],{}), (llm,[],{}))"
   ]
  },
  {
   "cell_type": "code",
   "execution_count": 43,
   "id": "c21176a2-25bd-425d-8e99-19a9f44e9933",
   "metadata": {},
   "outputs": [],
   "source": [
    "from collections import namedtuple\n",
    "\n",
    "Step = namedtuple(\"Step\", [\"func\", \"args\", \"kwargs\"])\n",
    "\n",
    "def rag(query, search_step: Step, prompt_step: Step, llm_step: Step):\n",
    "    search_results = search_step.func(query, *search_step.args, **search_step.kwargs)\n",
    "    prompt = prompt_step.func(query, search_results, *prompt_step.args, **prompt_step.kwargs)\n",
    "    answer = llm_step.func(prompt, *llm_step.args, **llm_step.kwargs)\n",
    "    return answer\n"
   ]
  },
  {
   "cell_type": "code",
   "execution_count": 45,
   "id": "b01f8b96-22c4-4ed5-9d35-b9d3b109c07d",
   "metadata": {},
   "outputs": [
    {
     "data": {
      "text/plain": [
       "\"Yes, even if you don't register, you're still eligible to submit the homeworks. Be aware, however, that there will be deadlines for turning in the final projects. So don't leave everything for the last minute.\""
      ]
     },
     "execution_count": 45,
     "metadata": {},
     "output_type": "execute_result"
    }
   ],
   "source": [
    "es_step = Step(elastic_search,[],{})\n",
    "build_prompt_step = Step(build_prompt,[],{})\n",
    "llm_step = Step(llm,[],{})\n",
    "rag(query,es_step, build_prompt_step, llm_step)"
   ]
  },
  {
   "cell_type": "markdown",
   "id": "8cfda508-be2a-4ad1-a60a-5e99744a1d69",
   "metadata": {},
   "source": [
    "### Rewrite as a class-based RAG pipeline"
   ]
  },
  {
   "cell_type": "code",
   "execution_count": 46,
   "id": "eae8a57b-90b0-4d1c-a8de-3372b84a31a4",
   "metadata": {},
   "outputs": [],
   "source": [
    "from typing import Callable, Any\n",
    "\n",
    "class Step:\n",
    "    def __init__(self, func: Callable, *args, **kwargs):\n",
    "        self.func = func\n",
    "        self.args = args\n",
    "        self.kwargs = kwargs\n",
    "\n",
    "    def __call__(self, *call_args):\n",
    "        return self.func(*call_args, *self.args, **self.kwargs)\n"
   ]
  },
  {
   "cell_type": "code",
   "execution_count": 47,
   "id": "f7c5e8ed-4ac1-470a-af25-ffdde97ac33c",
   "metadata": {},
   "outputs": [],
   "source": [
    "class RAGPipeline:\n",
    "    def __init__(self, search_step: Step, prompt_step: Step, llm_step: Step):\n",
    "        self.search_step = search_step\n",
    "        self.prompt_step = prompt_step\n",
    "        self.llm_step = llm_step\n",
    "\n",
    "    def run(self, query: str) -> Any:\n",
    "        # Step 1: Perform search\n",
    "        search_results = self.search_step(query)\n",
    "\n",
    "        # Step 2: Build prompt using query + search results\n",
    "        prompt = self.prompt_step(query, search_results)\n",
    "\n",
    "        # Step 3: Get final answer from LLM\n",
    "        answer = self.llm_step(prompt)\n",
    "\n",
    "        return answer\n"
   ]
  },
  {
   "cell_type": "markdown",
   "id": "3076dc0c-3586-414a-b768-d4f9286667c9",
   "metadata": {},
   "source": [
    "### Toy example:"
   ]
  },
  {
   "cell_type": "code",
   "execution_count": 49,
   "id": "f15a3cd3-9dd3-4256-828f-493e69473ada",
   "metadata": {},
   "outputs": [],
   "source": [
    "def search_elastic_mock(query, index):\n",
    "    return [f\"Doc for '{query}' from index '{index}'\"]\n",
    "\n",
    "def build_prompt_basic(query, docs, style=\"plain\"):\n",
    "    return f\"Q: {query}\\nContext: {docs}\\nFormat: {style}\"\n",
    "\n",
    "def call_llm_fake(prompt, model=\"gpt-4\"):\n",
    "    return f\"[{model}] Answer to: {prompt}\"\n"
   ]
  },
  {
   "cell_type": "code",
   "execution_count": 56,
   "id": "484007e6-deb9-4577-a05d-d1cb93bb9018",
   "metadata": {},
   "outputs": [
    {
     "name": "stdout",
     "output_type": "stream",
     "text": [
      "[gpt-4] Answer to: Q: What is Retrieval-Augmented Generation?\n",
      "Context: [\"Doc for 'What is Retrieval-Augmented Generation?' from index 'my_index'\"]\n",
      "Format: bullet\n"
     ]
    }
   ],
   "source": [
    "mock_search = Step(search_elastic_mock, \"my_index\")\n",
    "mock_prompt = Step(build_prompt_basic, style=\"bullet\")\n",
    "mock_llm = Step(call_llm_fake, model=\"gpt-4\")\n",
    "\n",
    "pipeline = RAGPipeline(search_step=mock_search, prompt_step=mock_prompt, llm_step=mock_llm)\n",
    "\n",
    "response = pipeline.run(\"What is Retrieval-Augmented Generation?\")\n",
    "print(response)\n"
   ]
  },
  {
   "cell_type": "markdown",
   "id": "a05cbfc5-1be5-4393-b5e7-84786043910c",
   "metadata": {},
   "source": [
    "### And an actual call:"
   ]
  },
  {
   "cell_type": "code",
   "execution_count": 58,
   "id": "e9bd50b9-3b7e-47e3-85af-2c711915ec74",
   "metadata": {},
   "outputs": [
    {
     "data": {
      "text/plain": [
       "\"Yes, even if you don't register, you're still eligible to submit the homeworks. Be aware, however, that there will be deadlines for turning in the final projects. So don't leave everything for the last minute.\""
      ]
     },
     "execution_count": 58,
     "metadata": {},
     "output_type": "execute_result"
    }
   ],
   "source": [
    "es_step = Step(elastic_search,[],{})\n",
    "build_prompt_step = Step(build_prompt,[],{})\n",
    "llm_step = Step(llm,[],{})\n",
    "\n",
    "pipeline = RAGPipeline(search_step=es_step, prompt_step=build_prompt_step, llm_step=llm_step)\n",
    "query = \"I discovered the course today but it already started. Too late to join?\"\n",
    "response = pipeline.run(query)\n",
    "response"
   ]
  },
  {
   "cell_type": "code",
   "execution_count": null,
   "id": "02c1a651-7b3c-404f-9d34-bb2c14138e3d",
   "metadata": {},
   "outputs": [],
   "source": []
  }
 ],
 "metadata": {
  "kernelspec": {
   "display_name": "Python 3 (ipykernel)",
   "language": "python",
   "name": "python3"
  },
  "language_info": {
   "codemirror_mode": {
    "name": "ipython",
    "version": 3
   },
   "file_extension": ".py",
   "mimetype": "text/x-python",
   "name": "python",
   "nbconvert_exporter": "python",
   "pygments_lexer": "ipython3",
   "version": "3.12.3"
  }
 },
 "nbformat": 4,
 "nbformat_minor": 5
}
