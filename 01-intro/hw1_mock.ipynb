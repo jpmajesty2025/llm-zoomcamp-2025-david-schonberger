{
 "cells": [
  {
   "cell_type": "code",
   "execution_count": 1,
   "id": "92af15ad-243b-47f9-97a2-087f8e5dff0e",
   "metadata": {},
   "outputs": [],
   "source": [
    "import openai"
   ]
  },
  {
   "cell_type": "code",
   "execution_count": 2,
   "id": "ebd1617d-e5dc-4ab0-8949-62a2a1aa410a",
   "metadata": {},
   "outputs": [],
   "source": [
    "from openai import OpenAI"
   ]
  },
  {
   "cell_type": "code",
   "execution_count": 3,
   "id": "0f4c09e5-6284-4829-903f-4759da230e12",
   "metadata": {},
   "outputs": [],
   "source": [
    "client = OpenAI()"
   ]
  },
  {
   "cell_type": "code",
   "execution_count": 6,
   "id": "226359c8-6089-4447-a69f-cb33ee9cedae",
   "metadata": {},
   "outputs": [],
   "source": [
    "import os"
   ]
  },
  {
   "cell_type": "code",
   "execution_count": null,
   "id": "ca909ba3-0e69-4b49-b5c9-b76deecbba97",
   "metadata": {},
   "outputs": [],
   "source": [
    "os.environ"
   ]
  },
  {
   "cell_type": "code",
   "execution_count": 8,
   "id": "c99d8158-1ef9-4ca6-ae79-87db64778a95",
   "metadata": {},
   "outputs": [],
   "source": [
    "response = client.chat.completions.create(model='gpt-4o',\n",
    "                              messages=[{\"role\":\"user\",\"content\":\"What is the best way to learn Icelandic, assuming I am unable to move there and immerse in the culture?\"}])"
   ]
  },
  {
   "cell_type": "code",
   "execution_count": 11,
   "id": "cafe1448-d6ba-4ecd-ab57-e78e37f197bb",
   "metadata": {},
   "outputs": [
    {
     "data": {
      "text/plain": [
       "'Learning Icelandic from afar can be challenging, but with the right resources and strategies, it\\'s certainly achievable. Here are some effective methods you can use:\\n\\n1. **Online Courses and Apps**: \\n   - Use language learning platforms like Duolingo, Babbel, or Memrise, which offer Icelandic courses.\\n   - Consider more specialized platforms like Icelandic Online, a free course developed by the University of Iceland.\\n\\n2. **Textbooks and Workbooks**:\\n   - Invest in well-reviewed textbooks and grammar guides. \"Colloquial Icelandic\" or \"Complete Icelandic\" might be helpful resources.\\n   - Workbooks with exercises can reinforce your learning.\\n\\n3. **Audio and Video Resources**:\\n   - Listen to Icelandic music and podcasts to get accustomed to the sound and rhythm of the language.\\n   - Watch Icelandic films or TV shows with subtitles to improve listening skills and build vocabulary.\\n\\n4. **Speaking Practice**:\\n   - Join language exchange communities such as Tandem or HelloTalk to practice speaking with native Icelandic speakers.\\n   - Consider hiring a tutor for one-on-one sessions through platforms like iTalki or Preply.\\n\\n5. **Reading and Writing**:\\n   - Start with simple reading materials, like children’s books, and gradually move to more complex texts.\\n   - Try writing daily, starting with simple sentences and progressing to more complex structures.\\n\\n6. **Local Communities and Events**:\\n   - Look for Icelandic cultural events or communities in your area, which might provide opportunities to practice.\\n   - Engage with online forums or social media groups that focus on Iceland or Icelandic learning.\\n\\n7. **Consistency and Immersion**:\\n   - Dedicate a set amount of time to study every day to build consistency.\\n   - Try to incorporate Icelandic into your daily routine, such as changing your phone’s language settings or labeling household items with their Icelandic names.\\n\\nBy combining these strategies and maintaining a steady habit of studying, you\\'ll find yourself gradually improving in both understanding and speaking Icelandic.'"
      ]
     },
     "execution_count": 11,
     "metadata": {},
     "output_type": "execute_result"
    }
   ],
   "source": [
    "response.choices[0].message.content"
   ]
  },
  {
   "cell_type": "code",
   "execution_count": null,
   "id": "2ad7da44-93ea-4624-bc4a-8c2bb46d59d4",
   "metadata": {},
   "outputs": [],
   "source": []
  }
 ],
 "metadata": {
  "kernelspec": {
   "display_name": "Python 3 (ipykernel)",
   "language": "python",
   "name": "python3"
  },
  "language_info": {
   "codemirror_mode": {
    "name": "ipython",
    "version": 3
   },
   "file_extension": ".py",
   "mimetype": "text/x-python",
   "name": "python",
   "nbconvert_exporter": "python",
   "pygments_lexer": "ipython3",
   "version": "3.12.1"
  }
 },
 "nbformat": 4,
 "nbformat_minor": 5
}
