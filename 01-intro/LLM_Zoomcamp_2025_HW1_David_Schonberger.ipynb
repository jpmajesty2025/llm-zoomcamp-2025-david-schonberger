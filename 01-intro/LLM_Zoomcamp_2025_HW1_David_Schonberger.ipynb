{
 "cells": [
  {
   "cell_type": "markdown",
   "id": "846597e3-e0e2-437e-9183-13888601a036",
   "metadata": {},
   "source": [
    "### Q1. Running Elastic"
   ]
  },
  {
   "cell_type": "markdown",
   "id": "502047bd-70f4-4932-af11-703778ad45e1",
   "metadata": {},
   "source": [
    "What's the version.build_hash value?"
   ]
  },
  {
   "cell_type": "markdown",
   "id": "94e2d063-5928-4666-a90e-9943d57ffaff",
   "metadata": {},
   "source": [
    "Result of `curl http://localhost:9200`:"
   ]
  },
  {
   "cell_type": "code",
   "execution_count": 66,
   "id": "4295fa36-75b3-4359-8d64-4336c723a2a8",
   "metadata": {},
   "outputs": [],
   "source": [
    "result = {\n",
    "  \"name\" : \"0a6727f25504\",\n",
    "  \"cluster_name\" : \"docker-cluster\",\n",
    "  \"cluster_uuid\" : \"GUzwBIDFQsWjJ2_V-MJDwQ\",\n",
    "  \"version\" : {\n",
    "    \"number\" : \"9.0.1\",\n",
    "    \"build_flavor\" : \"default\",\n",
    "    \"build_type\" : \"docker\",\n",
    "    \"build_hash\" : \"73f7594ea00db50aa7e941e151a5b3985f01e364\",\n",
    "    \"build_date\" : \"2025-04-30T10:07:41.393025990Z\",\n",
    "    \"build_snapshot\" : False,\n",
    "    \"lucene_version\" : \"10.1.0\",\n",
    "    \"minimum_wire_compatibility_version\" : \"8.18.0\",\n",
    "    \"minimum_index_compatibility_version\" : \"8.0.0\"\n",
    "  },\n",
    "  \"tagline\" : \"You Know, for Search\"\n",
    "}"
   ]
  },
  {
   "cell_type": "code",
   "execution_count": 67,
   "id": "43d2f8e5-c01c-4da3-89e0-12adb707591e",
   "metadata": {},
   "outputs": [
    {
     "data": {
      "text/plain": [
       "'73f7594ea00db50aa7e941e151a5b3985f01e364'"
      ]
     },
     "execution_count": 67,
     "metadata": {},
     "output_type": "execute_result"
    }
   ],
   "source": [
    "result['version']['build_hash']"
   ]
  },
  {
   "cell_type": "markdown",
   "id": "9f3cc204-cf45-449a-b6b8-630a6a43409e",
   "metadata": {},
   "source": [
    "#### Ans: '73f7594ea00db50aa7e941e151a5b3985f01e364'"
   ]
  },
  {
   "cell_type": "code",
   "execution_count": 2,
   "id": "29130d1d-6bfe-41ff-af37-e275ba1260b2",
   "metadata": {},
   "outputs": [],
   "source": [
    "import requests \n",
    "\n",
    "docs_url = 'https://github.com/DataTalksClub/llm-zoomcamp/blob/main/01-intro/documents.json?raw=1'\n",
    "docs_response = requests.get(docs_url)\n",
    "documents_raw = docs_response.json()\n",
    "\n",
    "documents = []\n",
    "\n",
    "for course in documents_raw:\n",
    "    course_name = course['course']\n",
    "\n",
    "    for doc in course['documents']:\n",
    "        doc['course'] = course_name\n",
    "        documents.append(doc)"
   ]
  },
  {
   "cell_type": "markdown",
   "id": "58eb36f6-0832-48e3-9761-a862da90f59e",
   "metadata": {},
   "source": [
    "### Q2. Indexing the data"
   ]
  },
  {
   "cell_type": "markdown",
   "id": "9ff85179-0415-4ff3-9817-e45412606b3c",
   "metadata": {},
   "source": [
    "Index the data in the same way as was shown in the course videos. Make the course field a keyword and the rest should be text.\n",
    "\n",
    "Don't forget to install the ElasticSearch client for Python:"
   ]
  },
  {
   "cell_type": "markdown",
   "id": "12c8f459-f509-4d74-83d5-c6aae2fe5156",
   "metadata": {},
   "source": [
    "Which function do you use for adding your data to elastic?\n",
    "\n",
    "- insert\n",
    "- index\n",
    "- put\n",
    "- add"
   ]
  },
  {
   "cell_type": "markdown",
   "id": "a4f16a86-54b6-4337-9600-9116d154a988",
   "metadata": {},
   "source": [
    "#### Ans: index"
   ]
  },
  {
   "cell_type": "code",
   "execution_count": 3,
   "id": "be7373eb-ce90-4e4b-8380-0a9408ab930f",
   "metadata": {},
   "outputs": [],
   "source": [
    "from elasticsearch import Elasticsearch"
   ]
  },
  {
   "cell_type": "code",
   "execution_count": 4,
   "id": "1e7e1e90-1006-4db7-999b-6d8114fa398c",
   "metadata": {},
   "outputs": [],
   "source": [
    "es_client = Elasticsearch('htttp://localhost:9200')"
   ]
  },
  {
   "cell_type": "code",
   "execution_count": 5,
   "id": "bd76280f-a82f-4438-92cf-641661f11ec9",
   "metadata": {},
   "outputs": [
    {
     "data": {
      "text/plain": [
       "ObjectApiResponse({'name': '0a6727f25504', 'cluster_name': 'docker-cluster', 'cluster_uuid': 'GUzwBIDFQsWjJ2_V-MJDwQ', 'version': {'number': '9.0.1', 'build_flavor': 'default', 'build_type': 'docker', 'build_hash': '73f7594ea00db50aa7e941e151a5b3985f01e364', 'build_date': '2025-04-30T10:07:41.393025990Z', 'build_snapshot': False, 'lucene_version': '10.1.0', 'minimum_wire_compatibility_version': '8.18.0', 'minimum_index_compatibility_version': '8.0.0'}, 'tagline': 'You Know, for Search'})"
      ]
     },
     "execution_count": 5,
     "metadata": {},
     "output_type": "execute_result"
    }
   ],
   "source": [
    "es_client.info()"
   ]
  },
  {
   "cell_type": "code",
   "execution_count": 6,
   "id": "49c35428-f416-44b6-b65c-5c6a6bfcc456",
   "metadata": {},
   "outputs": [
    {
     "data": {
      "text/plain": [
       "ObjectApiResponse({'acknowledged': True, 'shards_acknowledged': True, 'index': 'course-questions'})"
      ]
     },
     "execution_count": 6,
     "metadata": {},
     "output_type": "execute_result"
    }
   ],
   "source": [
    "index_settings = {\n",
    "    \"settings\": {\n",
    "        \"number_of_shards\": 1,\n",
    "        \"number_of_replicas\": 0\n",
    "    },\n",
    "    \"mappings\": {\n",
    "        \"properties\": {\n",
    "            \"text\": {\"type\": \"text\"},\n",
    "            \"section\": {\"type\": \"text\"},\n",
    "            \"question\": {\"type\": \"text\"},\n",
    "            \"course\": {\"type\": \"keyword\"} \n",
    "        }\n",
    "    }\n",
    "}\n",
    "\n",
    "index_name = \"course-questions\"\n",
    "es_client.indices.create(index=index_name, body=index_settings)"
   ]
  },
  {
   "cell_type": "code",
   "execution_count": 7,
   "id": "b09ed9b1-62aa-4f08-bad9-b407c651ff18",
   "metadata": {},
   "outputs": [],
   "source": [
    "from tqdm.auto import tqdm"
   ]
  },
  {
   "cell_type": "code",
   "execution_count": 8,
   "id": "4b742286-05fb-4ff8-acf6-8f83c942a055",
   "metadata": {},
   "outputs": [
    {
     "data": {
      "application/vnd.jupyter.widget-view+json": {
       "model_id": "926ba1c8457e4448b0dbb22cf4fb40a3",
       "version_major": 2,
       "version_minor": 0
      },
      "text/plain": [
       "  0%|          | 0/948 [00:00<?, ?it/s]"
      ]
     },
     "metadata": {},
     "output_type": "display_data"
    }
   ],
   "source": [
    "for doc in tqdm(documents):\n",
    "    es_client.index(index=index_name, document=doc)"
   ]
  },
  {
   "cell_type": "markdown",
   "id": "e66e095b-a850-42e0-85be-ab466869cf79",
   "metadata": {},
   "source": [
    "### Q3. Searching"
   ]
  },
  {
   "cell_type": "markdown",
   "id": "1809c9b7-bb1f-4d91-b3cc-05c815fcf69f",
   "metadata": {},
   "source": [
    "Now let's search in our index.\n",
    "\n",
    "We will execute a query \"How do execute a command on a Kubernetes pod?\".\n",
    "\n",
    "Use only question and text fields and give question a boost of 4, and use \"type\": \"best_fields\".\n",
    "\n",
    "What's the score for the top ranking result?\n",
    "\n",
    "- 84.50\n",
    "- 64.50\n",
    "- 44.50\n",
    "- 24.50"
   ]
  },
  {
   "cell_type": "code",
   "execution_count": 9,
   "id": "13152f3d-5586-4ba3-88e8-c47563ea1c31",
   "metadata": {},
   "outputs": [],
   "source": [
    "query = \"How do execute a command on a Kubernetes pod?\""
   ]
  },
  {
   "cell_type": "code",
   "execution_count": 16,
   "id": "20580e54-cbf7-4622-8a3f-78524183dcf1",
   "metadata": {},
   "outputs": [],
   "source": [
    "search_query = {\n",
    "    \"size\": 5,\n",
    "    \"query\": {\n",
    "        \"bool\": {\n",
    "            \"must\": {\n",
    "                \"multi_match\": {\n",
    "                    \"query\": query,\n",
    "                    \"fields\": [\"question^4\", \"text\"],\n",
    "                    \"type\": \"best_fields\"\n",
    "                }\n",
    "            }\n",
    "        }\n",
    "    }\n",
    "}"
   ]
  },
  {
   "cell_type": "code",
   "execution_count": 14,
   "id": "0d85711a-fc1c-449c-b0a6-87316c891c39",
   "metadata": {},
   "outputs": [
    {
     "data": {
      "text/plain": [
       "ObjectApiResponse({'took': 18, 'timed_out': False, '_shards': {'total': 1, 'successful': 1, 'skipped': 0, 'failed': 0}, 'hits': {'total': {'value': 739, 'relation': 'eq'}, 'max_score': 44.50556, 'hits': [{'_index': 'course-questions', '_id': '1PGtPJcBo5vjBxHtMk1S', '_score': 44.50556, '_source': {'text': 'Launch the container image in interactive mode and overriding the entrypoint, so that it starts a bash command.\\ndocker run -it --entrypoint bash <image>\\nIf the container is already running, execute a command in the specific container:\\ndocker ps (find the container-id)\\ndocker exec -it <container-id> bash\\n(Marcos MJD)', 'section': '5. Deploying Machine Learning Models', 'question': 'How do I debug a docker container?', 'course': 'machine-learning-zoomcamp'}}, {'_index': 'course-questions', '_id': 'Y_GtPJcBo5vjBxHtNE5o', '_score': 35.433445, '_source': {'text': 'Deploy and Access the Kubernetes Dashboard\\nLuke', 'section': '10. Kubernetes and TensorFlow Serving', 'question': 'Kubernetes-dashboard', 'course': 'machine-learning-zoomcamp'}}, {'_index': 'course-questions', '_id': '9PGtPJcBo5vjBxHtMk3E', '_score': 33.70974, '_source': {'text': 'You can copy files from your local machine into a Docker container using the docker cp command. Here\\'s how to do it:\\nIn the Dockerfile, you can provide the folder containing the files that you want to copy over. The basic syntax is as follows:\\nCOPY [\"src/predict.py\", \"models/xgb_model.bin\", \"./\"]\\t\\t\\t\\t\\t\\t\\t\\t\\t\\t\\tGopakumar Gopinathan', 'section': '5. Deploying Machine Learning Models', 'question': 'How do I copy files from a different folder into docker container’s working directory?', 'course': 'machine-learning-zoomcamp'}}, {'_index': 'course-questions', '_id': '4_GtPJcBo5vjBxHtMk2G', '_score': 33.2635, '_source': {'text': 'Problem description:\\nI started a web-server in terminal (command window, powershell, etc.). How can I run another python script, which makes a request to this server?\\nSolution description:\\nJust open another terminal (command window, powershell, etc.) and run a python script.\\nAlena Kniazeva', 'section': '5. Deploying Machine Learning Models', 'question': 'How to run a script while a web-server is working?', 'course': 'machine-learning-zoomcamp'}}, {'_index': 'course-questions', '_id': 'tvGtPJcBo5vjBxHtMU3o', '_score': 32.589073, '_source': {'text': \"Matplotlib has a cool method to annotate where you could provide an X,Y point and annotate with an arrow and text. For example this will show an arrow pointing to the x,y point optimal threshold.\\nplt.annotate(f'Optimal Threshold: {optimal_threshold:.2f}\\\\nOptimal F1 Score: {optimal_f1_score:.2f}',\\nxy=(optimal_threshold, optimal_f1_score),\\nxytext=(0.3, 0.5),\\ntextcoords='axes fraction',\\narrowprops=dict(facecolor='black', shrink=0.05))\\nQuinn Avila\", 'section': '4. Evaluation Metrics for Classification', 'question': 'How can I annotate a graph?', 'course': 'machine-learning-zoomcamp'}}]}})"
      ]
     },
     "execution_count": 14,
     "metadata": {},
     "output_type": "execute_result"
    }
   ],
   "source": [
    "search_response = es_client.search(index=index_name, body=search_query)\n",
    "search_response"
   ]
  },
  {
   "cell_type": "markdown",
   "id": "99c36ba3-c2c5-4b95-8651-70d6289e882f",
   "metadata": {},
   "source": [
    "#### Ans: top score is approx. 44.5"
   ]
  },
  {
   "cell_type": "markdown",
   "id": "8857626e-b830-49bd-9282-c322d86dffa7",
   "metadata": {},
   "source": [
    "### Q4. Filtering"
   ]
  },
  {
   "cell_type": "markdown",
   "id": "a7aaebb9-5f0a-4035-a481-45a6b0c52486",
   "metadata": {},
   "source": [
    "Now ask a different question: \"How do copy a file to a Docker container?\".\n",
    "\n",
    "This time we are only interested in questions from machine-learning-zoomcamp.\n",
    "\n",
    "Return 3 results. What's the 3rd question returned by the search engine?\n",
    "\n",
    "- How do I debug a docker container?\n",
    "- How do I copy files from a different folder into docker container’s working directory?\n",
    "- How do Lambda container images work?\n",
    "- How can I annotate a graph?"
   ]
  },
  {
   "cell_type": "code",
   "execution_count": 20,
   "id": "ff1347b6-f2b7-446d-9cba-57ee6c26955b",
   "metadata": {},
   "outputs": [],
   "source": [
    "query = \"How do copy a file to a Docker container?\""
   ]
  },
  {
   "cell_type": "code",
   "execution_count": 23,
   "id": "ab3eb4ac-ef13-4a06-b471-287307a6809a",
   "metadata": {},
   "outputs": [],
   "source": [
    "search_query = {\n",
    "    \"size\": 3,\n",
    "    \"query\": {\n",
    "        \"bool\": {\n",
    "            \"must\": {\n",
    "                \"multi_match\": {\n",
    "                    \"query\": query,\n",
    "                    \"fields\": [\"question^4\", \"text\"],\n",
    "                    \"type\": \"best_fields\"\n",
    "                }\n",
    "            },\"filter\": {\n",
    "                \"term\": {\n",
    "                    \"course\": \"machine-learning-zoomcamp\"\n",
    "                }\n",
    "            }\n",
    "        }\n",
    "    }\n",
    "}"
   ]
  },
  {
   "cell_type": "code",
   "execution_count": 24,
   "id": "6006bb08-f76a-4059-aecd-61ed418f29d0",
   "metadata": {},
   "outputs": [],
   "source": [
    "search_response = es_client.search(index=index_name, body=search_query)"
   ]
  },
  {
   "cell_type": "code",
   "execution_count": 26,
   "id": "f7d72bc4-d5bf-4b15-8f83-019a5f1196b3",
   "metadata": {},
   "outputs": [
    {
     "data": {
      "text/plain": [
       "[{'text': 'Launch the container image in interactive mode and overriding the entrypoint, so that it starts a bash command.\\ndocker run -it --entrypoint bash <image>\\nIf the container is already running, execute a command in the specific container:\\ndocker ps (find the container-id)\\ndocker exec -it <container-id> bash\\n(Marcos MJD)',\n",
       "  'section': '5. Deploying Machine Learning Models',\n",
       "  'question': 'How do I debug a docker container?',\n",
       "  'course': 'machine-learning-zoomcamp'},\n",
       " {'text': \"You can copy files from your local machine into a Docker container using the docker cp command. Here's how to do it:\\nTo copy a file or directory from your local machine into a running Docker container, you can use the `docker cp command`. The basic syntax is as follows:\\ndocker cp /path/to/local/file_or_directory container_id:/path/in/container\\nHrithik Kumar Advani\",\n",
       "  'section': '5. Deploying Machine Learning Models',\n",
       "  'question': 'How do I copy files from my local machine to docker container?',\n",
       "  'course': 'machine-learning-zoomcamp'},\n",
       " {'text': 'You can copy files from your local machine into a Docker container using the docker cp command. Here\\'s how to do it:\\nIn the Dockerfile, you can provide the folder containing the files that you want to copy over. The basic syntax is as follows:\\nCOPY [\"src/predict.py\", \"models/xgb_model.bin\", \"./\"]\\t\\t\\t\\t\\t\\t\\t\\t\\t\\t\\tGopakumar Gopinathan',\n",
       "  'section': '5. Deploying Machine Learning Models',\n",
       "  'question': 'How do I copy files from a different folder into docker container’s working directory?',\n",
       "  'course': 'machine-learning-zoomcamp'}]"
      ]
     },
     "execution_count": 26,
     "metadata": {},
     "output_type": "execute_result"
    }
   ],
   "source": [
    "hits = search_response['hits']['hits']\n",
    "result_docs = [hit['_source'] for hit in hits]\n",
    "result_docs"
   ]
  },
  {
   "cell_type": "code",
   "execution_count": 28,
   "id": "8f6707d7-8bc4-49f9-893c-754f503cead1",
   "metadata": {},
   "outputs": [
    {
     "name": "stdout",
     "output_type": "stream",
     "text": [
      "How do I copy files from a different folder into docker container’s working directory?\n"
     ]
    }
   ],
   "source": [
    "print(result_docs[2]['question'])"
   ]
  },
  {
   "cell_type": "markdown",
   "id": "a9925670-eab5-484c-9a61-c9c9c12e9255",
   "metadata": {},
   "source": [
    "#### Ans: Third Q returned is 'How do I copy files from a different folder into docker container’s working directory?'"
   ]
  },
  {
   "cell_type": "markdown",
   "id": "ce4a6790-22f6-4592-83bd-ceedc5cdd4cf",
   "metadata": {},
   "source": [
    "### Q5. Building a prompt"
   ]
  },
  {
   "cell_type": "markdown",
   "id": "445f198a-0c4a-4273-957e-b1a0bae4e299",
   "metadata": {},
   "source": [
    "Now we're ready to build a prompt to send to an LLM.\n",
    "\n",
    "Take the records returned from Elasticsearch in Q4 and use this template to build the context. Separate context entries by two linebreaks (\\n\\n)"
   ]
  },
  {
   "cell_type": "code",
   "execution_count": 29,
   "id": "fc86f000-6956-479a-bec9-6e34cedca974",
   "metadata": {},
   "outputs": [],
   "source": [
    "context_template = \"\"\"\n",
    "Q: {question}\n",
    "A: {text}\n",
    "\"\"\".strip()"
   ]
  },
  {
   "cell_type": "code",
   "execution_count": 44,
   "id": "c91e9d02-88a3-488c-8092-aa0cd48dfb54",
   "metadata": {},
   "outputs": [],
   "source": [
    "context = \"\"\n",
    "for doc in result_docs:\n",
    "    context += f\"Q:{doc['question']}\\n\\nA:{doc['text']}\\n\\n\""
   ]
  },
  {
   "cell_type": "code",
   "execution_count": 45,
   "id": "8707e04b-df93-47f8-8587-8d608a4e52c6",
   "metadata": {},
   "outputs": [
    {
     "name": "stdout",
     "output_type": "stream",
     "text": [
      "Q:How do I debug a docker container?\n",
      "\n",
      "A:Launch the container image in interactive mode and overriding the entrypoint, so that it starts a bash command.\n",
      "docker run -it --entrypoint bash <image>\n",
      "If the container is already running, execute a command in the specific container:\n",
      "docker ps (find the container-id)\n",
      "docker exec -it <container-id> bash\n",
      "(Marcos MJD)\n",
      "\n",
      "Q:How do I copy files from my local machine to docker container?\n",
      "\n",
      "A:You can copy files from your local machine into a Docker container using the docker cp command. Here's how to do it:\n",
      "To copy a file or directory from your local machine into a running Docker container, you can use the `docker cp command`. The basic syntax is as follows:\n",
      "docker cp /path/to/local/file_or_directory container_id:/path/in/container\n",
      "Hrithik Kumar Advani\n",
      "\n",
      "Q:How do I copy files from a different folder into docker container’s working directory?\n",
      "\n",
      "A:You can copy files from your local machine into a Docker container using the docker cp command. Here's how to do it:\n",
      "In the Dockerfile, you can provide the folder containing the files that you want to copy over. The basic syntax is as follows:\n",
      "COPY [\"src/predict.py\", \"models/xgb_model.bin\", \"./\"]\t\t\t\t\t\t\t\t\t\t\tGopakumar Gopinathan\n",
      "\n",
      "\n"
     ]
    }
   ],
   "source": [
    "print(context)"
   ]
  },
  {
   "cell_type": "markdown",
   "id": "d7013daf-f434-4463-9a61-c0425dccb7d7",
   "metadata": {},
   "source": [
    "Now use the context you just created along with the \"How do I execute a command in a running docker container?\" question to construct a prompt using the template below:"
   ]
  },
  {
   "cell_type": "code",
   "execution_count": 46,
   "id": "96b7f028-71df-4ab2-a209-765edb1285f0",
   "metadata": {},
   "outputs": [],
   "source": [
    "prompt_template = \"\"\"\n",
    "You're a course teaching assistant. Answer the QUESTION based on the CONTEXT from the FAQ database.\n",
    "Use only the facts from the CONTEXT when answering the QUESTION.\n",
    "\n",
    "QUESTION: {question}\n",
    "\n",
    "CONTEXT:\n",
    "{context}\n",
    "\"\"\".strip()"
   ]
  },
  {
   "cell_type": "code",
   "execution_count": 47,
   "id": "4ee02675-d03c-4883-be67-65a3055bba1c",
   "metadata": {},
   "outputs": [],
   "source": [
    "prompt = prompt_template.format(question=query, context=context).strip()"
   ]
  },
  {
   "cell_type": "code",
   "execution_count": 48,
   "id": "b21c7238-65bc-461b-b1ee-b72d021b0571",
   "metadata": {},
   "outputs": [
    {
     "name": "stdout",
     "output_type": "stream",
     "text": [
      "\n",
      " prompt:\n",
      "You're a course teaching assistant. Answer the QUESTION based on the CONTEXT from the FAQ database.\n",
      "Use only the facts from the CONTEXT when answering the QUESTION.\n",
      "\n",
      "QUESTION: How do copy a file to a Docker container?\n",
      "\n",
      "CONTEXT:\n",
      "Q:How do I debug a docker container?\n",
      "\n",
      "A:Launch the container image in interactive mode and overriding the entrypoint, so that it starts a bash command.\n",
      "docker run -it --entrypoint bash <image>\n",
      "If the container is already running, execute a command in the specific container:\n",
      "docker ps (find the container-id)\n",
      "docker exec -it <container-id> bash\n",
      "(Marcos MJD)\n",
      "\n",
      "Q:How do I copy files from my local machine to docker container?\n",
      "\n",
      "A:You can copy files from your local machine into a Docker container using the docker cp command. Here's how to do it:\n",
      "To copy a file or directory from your local machine into a running Docker container, you can use the `docker cp command`. The basic syntax is as follows:\n",
      "docker cp /path/to/local/file_or_directory container_id:/path/in/container\n",
      "Hrithik Kumar Advani\n",
      "\n",
      "Q:How do I copy files from a different folder into docker container’s working directory?\n",
      "\n",
      "A:You can copy files from your local machine into a Docker container using the docker cp command. Here's how to do it:\n",
      "In the Dockerfile, you can provide the folder containing the files that you want to copy over. The basic syntax is as follows:\n",
      "COPY [\"src/predict.py\", \"models/xgb_model.bin\", \"./\"]\t\t\t\t\t\t\t\t\t\t\tGopakumar Gopinathan\n",
      "\n",
      " len: 1443\n"
     ]
    }
   ],
   "source": [
    "print(f'\\n prompt:\\n{prompt}\\n\\n len: {len(prompt)}')"
   ]
  },
  {
   "cell_type": "markdown",
   "id": "1d0cddc9-1145-4b1e-aad1-2f5d6a4799e4",
   "metadata": {},
   "source": [
    "What's the length of the resulting prompt? (use the len function)\n",
    "\n",
    "- 946\n",
    "- 1446\n",
    "- 1946\n",
    "- 2446"
   ]
  },
  {
   "cell_type": "markdown",
   "id": "387ccdb8-1e9d-468a-9986-d7f659f8b72c",
   "metadata": {},
   "source": [
    "#### Ans: closest ans is 1446"
   ]
  },
  {
   "cell_type": "markdown",
   "id": "79ccf89c-f904-4682-8767-1c3e64ac161a",
   "metadata": {},
   "source": [
    "### Q6. Tokens"
   ]
  },
  {
   "cell_type": "markdown",
   "id": "bd8c0495-9544-40a2-aa61-7d06acf11d70",
   "metadata": {},
   "source": [
    "When we use the OpenAI Platform, we're charged by the number of tokens we send in our prompt and receive in the response.\n",
    "\n",
    "The OpenAI python package uses tiktoken for tokenization:\n",
    "`pip install tiktoken`"
   ]
  },
  {
   "cell_type": "markdown",
   "id": "0e8431e9-090f-42dd-9919-f696c311f688",
   "metadata": {},
   "source": [
    "Let's calculate the number of tokens in our query:\n",
    "`encoding = tiktoken.encoding_for_model(\"gpt-4o\")`"
   ]
  },
  {
   "cell_type": "code",
   "execution_count": 51,
   "id": "19b13a1a-b61f-4721-994f-a87bc85ce420",
   "metadata": {},
   "outputs": [],
   "source": [
    "import tiktoken\n",
    "encoding = tiktoken.encoding_for_model(\"gpt-4o\")"
   ]
  },
  {
   "cell_type": "code",
   "execution_count": 54,
   "id": "15be3b7e-2e83-4285-b619-77d981967533",
   "metadata": {},
   "outputs": [
    {
     "data": {
      "text/plain": [
       "320"
      ]
     },
     "execution_count": 54,
     "metadata": {},
     "output_type": "execute_result"
    }
   ],
   "source": [
    "prompt_tokens = encoding.encode(prompt)\n",
    "len(prompt_tokens)"
   ]
  },
  {
   "cell_type": "markdown",
   "id": "25ca4240-9157-4398-b7f9-e38738fd3542",
   "metadata": {},
   "source": [
    "Use the encode function. How many tokens does our prompt have?\n",
    "\n",
    "- 120\n",
    "- 220\n",
    "- 320\n",
    "- 420"
   ]
  },
  {
   "cell_type": "markdown",
   "id": "f5443a06-bc7f-4b1f-a356-e896d7f6dd39",
   "metadata": {},
   "source": [
    "#### Ans: 320 token in the prompt"
   ]
  },
  {
   "cell_type": "markdown",
   "id": "e0bf027f-58a1-4518-8d80-10e315cd3e88",
   "metadata": {},
   "source": [
    "### Bonus: generating the answer (ungraded)"
   ]
  },
  {
   "cell_type": "markdown",
   "id": "bf876adf-a1be-4c85-979b-b65214c26922",
   "metadata": {},
   "source": [
    "Let's send the prompt to OpenAI. What's the response?\n",
    "\n",
    "Note: you can replace OpenAI with Ollama. See module 2."
   ]
  },
  {
   "cell_type": "code",
   "execution_count": 58,
   "id": "2fd38a2e-ac5f-4c9d-953a-949971ce2bf3",
   "metadata": {},
   "outputs": [],
   "source": [
    "from openai import OpenAI\n",
    "def llm(prompt, *args, **kwargs):\n",
    "    client = OpenAI()\n",
    "    response = client.chat.completions.create(\n",
    "    model='gpt-4o',\n",
    "    messages=[{\"role\":\"user\",\"content\":prompt}]\n",
    "    )\n",
    "    return response.choices[0].message.content    "
   ]
  },
  {
   "cell_type": "code",
   "execution_count": 59,
   "id": "5279a960-29a3-45b3-95d3-600b42189678",
   "metadata": {},
   "outputs": [],
   "source": [
    "response = llm(prompt)"
   ]
  },
  {
   "cell_type": "code",
   "execution_count": 60,
   "id": "ec6ce240-f416-4f95-8671-2e4cea471014",
   "metadata": {},
   "outputs": [
    {
     "name": "stdout",
     "output_type": "stream",
     "text": [
      "To copy a file from your local machine into a Docker container, use the `docker cp` command. The basic syntax is:\n",
      "\n",
      "```\n",
      "docker cp /path/to/local/file_or_directory container_id:/path/in/container\n",
      "```\n",
      "\n",
      "This command allows you to specify the file or directory on your local machine and the destination path inside the running Docker container.\n"
     ]
    }
   ],
   "source": [
    "print(response)"
   ]
  },
  {
   "cell_type": "markdown",
   "id": "9c7cab45-d51f-4d4f-86fd-29f0756befe7",
   "metadata": {},
   "source": [
    "### Bonus: calculating the costs (ungraded)"
   ]
  },
  {
   "cell_type": "markdown",
   "id": "e5d6b622-f9a4-40be-a1e5-be30fe46e144",
   "metadata": {},
   "source": [
    "The Realtime API using text and gpt-4o charges 5.00 / 1M input tokens and 20.00 / 1M output tokens, as of 6/4/2025"
   ]
  },
  {
   "cell_type": "markdown",
   "id": "5da3f390-18c9-4de1-beef-f81f0d376466",
   "metadata": {},
   "source": [
    "Part 1:\n",
    "Suppose that on average per request we send 150 tokens and receive back 250 tokens.\n",
    "\n",
    "How much will it cost to run 1000 requests?"
   ]
  },
  {
   "cell_type": "code",
   "execution_count": 62,
   "id": "77a326a0-4629-4d35-97ad-f9fce62f9a82",
   "metadata": {},
   "outputs": [
    {
     "data": {
      "text/plain": [
       "1.25"
      ]
     },
     "execution_count": 62,
     "metadata": {},
     "output_type": "execute_result"
    }
   ],
   "source": [
    "total_input_tokens = 1000*150\n",
    "total_output_tokens = 100*250\n",
    "total_cost = (5*total_input_tokens + 20*total_output_tokens)/1000000\n",
    "total_cost"
   ]
  },
  {
   "cell_type": "markdown",
   "id": "7caff3c2-9dff-40f7-a063-3b425b3bc65c",
   "metadata": {},
   "source": [
    "#### Ans: total cost is 1.25"
   ]
  },
  {
   "cell_type": "markdown",
   "id": "fc39f26e-4993-4b35-9d9d-677683422c40",
   "metadata": {},
   "source": [
    "Part 2: redo the calculations (cost of 1000 requests) with the values obtained for our actual prompt in the prior exercises. Note: I will use the len of my prompt rather than the closest answer choice given."
   ]
  },
  {
   "cell_type": "code",
   "execution_count": 64,
   "id": "7950d265-d4af-466a-b28d-d5b023ffe1c1",
   "metadata": {},
   "outputs": [
    {
     "data": {
      "text/plain": [
       "7.855"
      ]
     },
     "execution_count": 64,
     "metadata": {},
     "output_type": "execute_result"
    }
   ],
   "source": [
    "total_input_tokens = 1000*1443\n",
    "total_output_tokens = 100*320\n",
    "total_cost = (5*total_input_tokens + 20*total_output_tokens)/1000000\n",
    "total_cost"
   ]
  },
  {
   "cell_type": "markdown",
   "id": "e92da487-5d87-4ac3-89b4-9b99949b1f0e",
   "metadata": {},
   "source": [
    "#### Ans: total cost 7.86"
   ]
  }
 ],
 "metadata": {
  "kernelspec": {
   "display_name": "Python 3 (ipykernel)",
   "language": "python",
   "name": "python3"
  },
  "language_info": {
   "codemirror_mode": {
    "name": "ipython",
    "version": 3
   },
   "file_extension": ".py",
   "mimetype": "text/x-python",
   "name": "python",
   "nbconvert_exporter": "python",
   "pygments_lexer": "ipython3",
   "version": "3.12.3"
  }
 },
 "nbformat": 4,
 "nbformat_minor": 5
}
